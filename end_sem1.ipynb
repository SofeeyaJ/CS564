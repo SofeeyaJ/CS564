{
  "nbformat": 4,
  "nbformat_minor": 0,
  "metadata": {
    "kernelspec": {
      "display_name": "Python 3",
      "language": "python",
      "name": "python3"
    },
    "language_info": {
      "codemirror_mode": {
        "name": "ipython",
        "version": 3
      },
      "file_extension": ".py",
      "mimetype": "text/x-python",
      "name": "python",
      "nbconvert_exporter": "python",
      "pygments_lexer": "ipython3",
      "version": "3.7.9"
    },
    "papermill": {
      "default_parameters": {},
      "duration": 26.522705,
      "end_time": "2021-03-29T12:23:08.771419",
      "environment_variables": {},
      "exception": null,
      "input_path": "__notebook__.ipynb",
      "output_path": "__notebook__.ipynb",
      "parameters": {},
      "start_time": "2021-03-29T12:22:42.248714",
      "version": "2.2.2"
    },
    "colab": {
      "provenance": []
    }
  },
  "cells": [
    {
      "cell_type": "code",
      "metadata": {
        "_cell_guid": "b1076dfc-b9ad-4769-8c92-a6c4dae69d19",
        "_uuid": "8f2839f25d086af736a60e9eeb907d3b93b6e0e5",
        "execution": {
          "iopub.execute_input": "2021-03-29T12:22:49.079051Z",
          "iopub.status.busy": "2021-03-29T12:22:49.078019Z",
          "iopub.status.idle": "2021-03-29T12:22:56.312890Z",
          "shell.execute_reply": "2021-03-29T12:22:56.311898Z"
        },
        "papermill": {
          "duration": 7.253921,
          "end_time": "2021-03-29T12:22:56.313149",
          "exception": false,
          "start_time": "2021-03-29T12:22:49.059228",
          "status": "completed"
        },
        "tags": [],
        "id": "YZgTseEWF1t7"
      },
      "source": [
        "# Importing libraries\n",
        "\n",
        "import csv\n",
        "import tensorflow as tf\n",
        "import numpy as np\n",
        "from tensorflow.keras.preprocessing.text import Tokenizer\n",
        "from tensorflow.keras.preprocessing.sequence import pad_sequences"
      ],
      "execution_count": null,
      "outputs": []
    },
    {
      "cell_type": "code",
      "metadata": {
        "execution": {
          "iopub.execute_input": "2021-03-29T12:22:56.340437Z",
          "iopub.status.busy": "2021-03-29T12:22:56.339664Z",
          "iopub.status.idle": "2021-03-29T12:22:56.342132Z",
          "shell.execute_reply": "2021-03-29T12:22:56.342670Z"
        },
        "papermill": {
          "duration": 0.019375,
          "end_time": "2021-03-29T12:22:56.342901",
          "exception": false,
          "start_time": "2021-03-29T12:22:56.323526",
          "status": "completed"
        },
        "tags": [],
        "id": "fPf11QCrF1uA"
      },
      "source": [
        "vocab_size = 1000\n",
        "embedding_dim = 16\n",
        "max_length = 1000\n",
        "trunc_type='post'\n",
        "padding_type='post'\n",
        "oov_tok = \"<OOV>\""
      ],
      "execution_count": null,
      "outputs": []
    },
    {
      "cell_type": "code",
      "metadata": {
        "execution": {
          "iopub.execute_input": "2021-03-29T12:22:56.375833Z",
          "iopub.status.busy": "2021-03-29T12:22:56.374670Z",
          "iopub.status.idle": "2021-03-29T12:22:56.379155Z",
          "shell.execute_reply": "2021-03-29T12:22:56.378515Z"
        },
        "papermill": {
          "duration": 0.026762,
          "end_time": "2021-03-29T12:22:56.379327",
          "exception": false,
          "start_time": "2021-03-29T12:22:56.352565",
          "status": "completed"
        },
        "tags": [],
        "colab": {
          "base_uri": "https://localhost:8080/"
        },
        "id": "JFDtQ0KYF1uB",
        "outputId": "033d3772-65aa-444c-ab03-1fe7904df3f2"
      },
      "source": [
        "# Most common stopWords\n",
        "\n",
        "sentences = []\n",
        "labels = []\n",
        "stopwords = [ \"a\", \"about\", \"above\", \"after\", \"again\", \"against\", \"all\", \"am\", \"an\", \"and\", \"any\", \"are\", \"as\", \"at\", \"be\", \"because\", \"been\", \"before\", \"being\", \"below\", \"between\", \"both\", \"but\", \"by\", \"could\", \"did\", \"do\", \"does\", \"doing\", \"down\", \"during\", \"each\", \"few\", \"for\", \"from\", \"further\", \"had\", \"has\", \"have\", \"having\", \"he\", \"he'd\", \"he'll\", \"he's\", \"her\", \"here\", \"here's\", \"hers\", \"herself\", \"him\", \"himself\", \"his\", \"how\", \"how's\", \"i\", \"i'd\", \"i'll\", \"i'm\", \"i've\", \"if\", \"in\", \"into\", \"is\", \"it\", \"it's\", \"its\", \"itself\", \"let's\", \"me\", \"more\", \"most\", \"my\", \"myself\", \"nor\", \"of\", \"on\", \"once\", \"only\", \"or\", \"other\", \"ought\", \"our\", \"ours\", \"ourselves\", \"out\", \"over\", \"own\", \"same\", \"she\", \"she'd\", \"she'll\", \"she's\", \"should\", \"so\", \"some\", \"such\", \"than\", \"that\", \"that's\", \"the\", \"their\", \"theirs\", \"them\", \"themselves\", \"then\", \"there\", \"there's\", \"these\", \"they\", \"they'd\", \"they'll\", \"they're\", \"they've\", \"this\", \"those\", \"through\", \"to\", \"too\", \"under\", \"until\", \"up\", \"very\", \"was\", \"we\", \"we'd\", \"we'll\", \"we're\", \"we've\", \"were\", \"what\", \"what's\", \"when\", \"when's\", \"where\", \"where's\", \"which\", \"while\", \"who\", \"who's\", \"whom\", \"why\", \"why's\", \"with\", \"would\", \"you\", \"you'd\", \"you'll\", \"you're\", \"you've\", \"your\", \"yours\", \"yourself\", \"yourselves\" ]\n",
        "print(len(stopwords))"
      ],
      "execution_count": null,
      "outputs": [
        {
          "output_type": "stream",
          "name": "stdout",
          "text": [
            "153\n"
          ]
        }
      ]
    },
    {
      "cell_type": "code",
      "metadata": {
        "execution": {
          "iopub.execute_input": "2021-03-29T12:22:56.408662Z",
          "iopub.status.busy": "2021-03-29T12:22:56.407847Z",
          "iopub.status.idle": "2021-03-29T12:22:58.241774Z",
          "shell.execute_reply": "2021-03-29T12:22:58.240794Z"
        },
        "papermill": {
          "duration": 1.852328,
          "end_time": "2021-03-29T12:22:58.242042",
          "exception": false,
          "start_time": "2021-03-29T12:22:56.389714",
          "status": "completed"
        },
        "tags": [],
        "colab": {
          "base_uri": "https://localhost:8080/"
        },
        "id": "9TljlUUwF1uD",
        "outputId": "73c3d46b-eb25-4312-c191-0a894a548fa3"
      },
      "source": [
        "# Reading data\n",
        "\n",
        "with open(\"bbc.csv\", 'r') as csvfile:\n",
        "    reader = csv.reader(csvfile, delimiter=',')\n",
        "    next(reader)\n",
        "    for row in reader:\n",
        "        labels.append(row[0])\n",
        "        sentence = row[1]\n",
        "        for word in stopwords:\n",
        "            token = \" \" + word + \" \"\n",
        "            sentence = sentence.replace(token, \" \")\n",
        "        sentences.append(sentence)\n",
        "\n",
        "\n",
        "print(len(labels))\n",
        "print(len(sentences))\n",
        "print(sentences[0])"
      ],
      "execution_count": null,
      "outputs": [
        {
          "output_type": "stream",
          "name": "stdout",
          "text": [
            "2225\n",
            "2225\n",
            "tv future hands viewers home theatre systems  plasma high-definition tvs  digital video recorders moving living room  way people watch tv will radically different five years  time.  according expert panel gathered annual consumer electronics show las vegas discuss new technologies will impact one favourite pastimes. us leading trend  programmes content will delivered viewers via home networks  cable  satellite  telecoms companies  broadband service providers front rooms portable devices.  one talked-about technologies ces digital personal video recorders (dvr pvr). set-top boxes  like us s tivo uk s sky+ system  allow people record  store  play  pause forward wind tv programmes want.  essentially  technology allows much personalised tv. also built-in high-definition tv sets  big business japan us  slower take off europe lack high-definition programming. not can people forward wind adverts  can also forget abiding network channel schedules  putting together a-la-carte entertainment. us networks cable satellite companies worried means terms advertising revenues well  brand identity  viewer loyalty channels. although us leads technology moment  also concern raised europe  particularly growing uptake services like sky+.  happens today  will see nine months years  time uk   adam hume  bbc broadcast s futurologist told bbc news website. likes bbc  no issues lost advertising revenue yet. pressing issue moment commercial uk broadcasters  brand loyalty important everyone.  will talking content brands rather network brands   said tim hanlon  brand communications firm starcom mediavest.  reality broadband connections  anybody can producer content.  added:  challenge now hard promote programme much choice.   means  said stacey jolna  senior vice president tv guide tv group  way people find content want watch simplified tv viewers. means networks  us terms  channels take leaf google s book search engine future  instead scheduler help people find want watch. kind channel model might work younger ipod generation used taking control gadgets play them. might not suit everyone  panel recognised. older generations comfortable familiar schedules channel brands know getting. perhaps not want much choice put hands  mr hanlon suggested.  end  kids just diapers pushing buttons already - everything possible available   said mr hanlon.  ultimately  consumer will tell market want.   50 000 new gadgets technologies showcased ces  many enhancing tv-watching experience. high-definition tv sets everywhere many new models lcd (liquid crystal display) tvs launched dvr capability built  instead external boxes. one example launched show humax s 26-inch lcd tv 80-hour tivo dvr dvd recorder. one us s biggest satellite tv companies  directtv  even launched branded dvr show 100-hours recording capability  instant replay  search function. set can pause rewind tv 90 hours. microsoft chief bill gates announced pre-show keynote speech partnership tivo  called tivotogo  means people can play recorded programmes windows pcs mobile devices. reflect increasing trend freeing multimedia people can watch want  want.\n"
          ]
        }
      ]
    },
    {
      "cell_type": "code",
      "metadata": {
        "execution": {
          "iopub.execute_input": "2021-03-29T12:22:58.273113Z",
          "iopub.status.busy": "2021-03-29T12:22:58.272160Z",
          "iopub.status.idle": "2021-03-29T12:22:58.275813Z",
          "shell.execute_reply": "2021-03-29T12:22:58.276379Z"
        },
        "papermill": {
          "duration": 0.022922,
          "end_time": "2021-03-29T12:22:58.276587",
          "exception": false,
          "start_time": "2021-03-29T12:22:58.253665",
          "status": "completed"
        },
        "tags": [],
        "colab": {
          "base_uri": "https://localhost:8080/"
        },
        "id": "VW57HTzaF1uD",
        "outputId": "4388fd2a-81ea-4463-da61-45c76ee543db"
      },
      "source": [
        "train_size = int(len(sentences) * 0.8)\n",
        "\n",
        "train_sentences = sentences[:train_size]\n",
        "train_labels = labels[:train_size]\n",
        "\n",
        "validation_sentences = sentences[train_size:]\n",
        "validation_labels = labels[train_size:]\n",
        "\n",
        "print(train_size)\n",
        "print(len(train_sentences))\n",
        "print(len(train_labels))\n",
        "print(len(validation_sentences))\n",
        "print(len(validation_labels))\n"
      ],
      "execution_count": null,
      "outputs": [
        {
          "output_type": "stream",
          "name": "stdout",
          "text": [
            "1780\n",
            "1780\n",
            "1780\n",
            "445\n",
            "445\n"
          ]
        }
      ]
    },
    {
      "cell_type": "code",
      "metadata": {
        "execution": {
          "iopub.execute_input": "2021-03-29T12:22:58.329500Z",
          "iopub.status.busy": "2021-03-29T12:22:58.324062Z",
          "iopub.status.idle": "2021-03-29T12:22:58.895863Z",
          "shell.execute_reply": "2021-03-29T12:22:58.895180Z"
        },
        "papermill": {
          "duration": 0.608413,
          "end_time": "2021-03-29T12:22:58.896067",
          "exception": false,
          "start_time": "2021-03-29T12:22:58.287654",
          "status": "completed"
        },
        "tags": [],
        "id": "QgIIi4PDF1uE"
      },
      "source": [
        "# Define tokenizer\n",
        "\n",
        "tokenizer = Tokenizer(num_words = vocab_size, oov_token=oov_tok)\n",
        "tokenizer.fit_on_texts(train_sentences)\n",
        "word_index = tokenizer.word_index\n",
        "\n"
      ],
      "execution_count": null,
      "outputs": []
    },
    {
      "cell_type": "code",
      "metadata": {
        "execution": {
          "iopub.execute_input": "2021-03-29T12:22:58.982371Z",
          "iopub.status.busy": "2021-03-29T12:22:58.949856Z",
          "iopub.status.idle": "2021-03-29T12:22:59.382165Z",
          "shell.execute_reply": "2021-03-29T12:22:59.382769Z"
        },
        "papermill": {
          "duration": 0.475534,
          "end_time": "2021-03-29T12:22:59.383011",
          "exception": false,
          "start_time": "2021-03-29T12:22:58.907477",
          "status": "completed"
        },
        "tags": [],
        "colab": {
          "base_uri": "https://localhost:8080/"
        },
        "id": "ZK1VxNjOF1uF",
        "outputId": "09f839ae-50d5-46c5-af1c-d60f43e587b1"
      },
      "source": [
        "# train_data\n",
        "\n",
        "train_sequences = tokenizer.texts_to_sequences(train_sentences)\n",
        "train_padded = pad_sequences(train_sequences, padding=padding_type, maxlen=max_length)\n",
        "\n",
        "print(len(train_sequences[0]))\n",
        "print(len(train_padded[0]))\n",
        "\n",
        "print(len(train_sequences[1]))\n",
        "print(len(train_padded[1]))\n",
        "\n",
        "print(len(train_sequences[10]))\n",
        "print(len(train_padded[10]))\n"
      ],
      "execution_count": null,
      "outputs": [
        {
          "output_type": "stream",
          "name": "stdout",
          "text": [
            "449\n",
            "1000\n",
            "200\n",
            "1000\n",
            "192\n",
            "1000\n"
          ]
        }
      ]
    },
    {
      "cell_type": "code",
      "metadata": {
        "execution": {
          "iopub.execute_input": "2021-03-29T12:22:59.458392Z",
          "iopub.status.busy": "2021-03-29T12:22:59.437218Z",
          "iopub.status.idle": "2021-03-29T12:22:59.540225Z",
          "shell.execute_reply": "2021-03-29T12:22:59.539529Z"
        },
        "papermill": {
          "duration": 0.14537,
          "end_time": "2021-03-29T12:22:59.540408",
          "exception": false,
          "start_time": "2021-03-29T12:22:59.395038",
          "status": "completed"
        },
        "tags": [],
        "colab": {
          "base_uri": "https://localhost:8080/"
        },
        "id": "T9iA-B8yF1uG",
        "outputId": "81fe794f-a100-4d56-e262-a19201998f2b"
      },
      "source": [
        "# validation_data\n",
        "\n",
        "validation_sequences = tokenizer.texts_to_sequences(validation_sentences)\n",
        "validation_padded = pad_sequences(validation_sequences, padding=padding_type, maxlen=max_length)\n",
        "\n",
        "print(len(validation_sequences))\n",
        "print(validation_padded.shape)"
      ],
      "execution_count": null,
      "outputs": [
        {
          "output_type": "stream",
          "name": "stdout",
          "text": [
            "445\n",
            "(445, 1000)\n"
          ]
        }
      ]
    },
    {
      "cell_type": "code",
      "metadata": {
        "execution": {
          "iopub.execute_input": "2021-03-29T12:22:59.614153Z",
          "iopub.status.busy": "2021-03-29T12:22:59.594762Z",
          "iopub.status.idle": "2021-03-29T12:22:59.622732Z",
          "shell.execute_reply": "2021-03-29T12:22:59.621959Z"
        },
        "papermill": {
          "duration": 0.070326,
          "end_time": "2021-03-29T12:22:59.622963",
          "exception": false,
          "start_time": "2021-03-29T12:22:59.552637",
          "status": "completed"
        },
        "tags": [],
        "colab": {
          "base_uri": "https://localhost:8080/"
        },
        "id": "0wCHpISIF1uH",
        "outputId": "2418573f-9246-43e7-b337-d8775f0fc438"
      },
      "source": [
        "# Labels\n",
        "\n",
        "label_tokenizer = Tokenizer()\n",
        "label_tokenizer.fit_on_texts(labels)\n",
        "\n",
        "training_label_seq = np.array(label_tokenizer.texts_to_sequences(train_labels))\n",
        "validation_label_seq = np.array(label_tokenizer.texts_to_sequences(validation_labels))\n",
        "\n",
        "print(training_label_seq[0])\n",
        "print(training_label_seq[1])\n",
        "print(training_label_seq[2])\n",
        "print(training_label_seq.shape)\n",
        "\n",
        "print(validation_label_seq[0])\n",
        "print(validation_label_seq[1])\n",
        "print(validation_label_seq[2])\n",
        "print(validation_label_seq.shape)"
      ],
      "execution_count": null,
      "outputs": [
        {
          "output_type": "stream",
          "name": "stdout",
          "text": [
            "[4]\n",
            "[2]\n",
            "[1]\n",
            "(1780, 1)\n",
            "[5]\n",
            "[4]\n",
            "[3]\n",
            "(445, 1)\n"
          ]
        }
      ]
    },
    {
      "cell_type": "code",
      "metadata": {
        "execution": {
          "iopub.execute_input": "2021-03-29T12:22:59.656291Z",
          "iopub.status.busy": "2021-03-29T12:22:59.655456Z",
          "iopub.status.idle": "2021-03-29T12:22:59.787244Z",
          "shell.execute_reply": "2021-03-29T12:22:59.787792Z"
        },
        "papermill": {
          "duration": 0.152338,
          "end_time": "2021-03-29T12:22:59.788042",
          "exception": false,
          "start_time": "2021-03-29T12:22:59.635704",
          "status": "completed"
        },
        "tags": [],
        "id": "h8pE1NSyF1uI"
      },
      "source": [
        "# Creating the model\n",
        "\n",
        "model1 = tf.keras.Sequential([\n",
        "    tf.keras.layers.Embedding(vocab_size, embedding_dim, input_length=max_length),\n",
        "    tf.keras.layers.GlobalAveragePooling1D(),\n",
        "    tf.keras.layers.Dense(24, activation='relu'),\n",
        "    tf.keras.layers.Dense(6, activation='softmax')\n",
        "])"
      ],
      "execution_count": null,
      "outputs": []
    },
    {
      "cell_type": "code",
      "metadata": {
        "execution": {
          "iopub.execute_input": "2021-03-29T12:22:59.817980Z",
          "iopub.status.busy": "2021-03-29T12:22:59.817129Z",
          "iopub.status.idle": "2021-03-29T12:22:59.841962Z",
          "shell.execute_reply": "2021-03-29T12:22:59.842563Z"
        },
        "papermill": {
          "duration": 0.04195,
          "end_time": "2021-03-29T12:22:59.842800",
          "exception": false,
          "start_time": "2021-03-29T12:22:59.800850",
          "status": "completed"
        },
        "tags": [],
        "colab": {
          "base_uri": "https://localhost:8080/"
        },
        "id": "lweYfY2mF1uI",
        "outputId": "f60b675b-d11b-4380-aa80-a5954b63834c"
      },
      "source": [
        "# Compile\n",
        "model1.compile(loss='sparse_categorical_crossentropy',optimizer='adam',metrics=['accuracy'])\n",
        "model1.summary()"
      ],
      "execution_count": null,
      "outputs": [
        {
          "output_type": "stream",
          "name": "stdout",
          "text": [
            "Model: \"sequential_26\"\n",
            "_________________________________________________________________\n",
            " Layer (type)                Output Shape              Param #   \n",
            "=================================================================\n",
            " embedding_8 (Embedding)     (None, 1000, 16)          16000     \n",
            "                                                                 \n",
            " global_average_pooling1d_8   (None, 16)               0         \n",
            " (GlobalAveragePooling1D)                                        \n",
            "                                                                 \n",
            " dense_50 (Dense)            (None, 24)                408       \n",
            "                                                                 \n",
            " dense_51 (Dense)            (None, 6)                 150       \n",
            "                                                                 \n",
            "=================================================================\n",
            "Total params: 16,558\n",
            "Trainable params: 16,558\n",
            "Non-trainable params: 0\n",
            "_________________________________________________________________\n"
          ]
        }
      ]
    },
    {
      "cell_type": "code",
      "metadata": {
        "execution": {
          "iopub.execute_input": "2021-03-29T12:22:59.877989Z",
          "iopub.status.busy": "2021-03-29T12:22:59.876980Z",
          "iopub.status.idle": "2021-03-29T12:23:06.715148Z",
          "shell.execute_reply": "2021-03-29T12:23:06.714462Z"
        },
        "papermill": {
          "duration": 6.859319,
          "end_time": "2021-03-29T12:23:06.715331",
          "exception": false,
          "start_time": "2021-03-29T12:22:59.856012",
          "status": "completed"
        },
        "tags": [],
        "colab": {
          "base_uri": "https://localhost:8080/"
        },
        "id": "Gs9dblCHF1uI",
        "outputId": "56f53464-5c76-4068-f4a0-3031354ac945"
      },
      "source": [
        "# Fitting\n",
        "num_epochs = 30\n",
        "history = model1.fit(train_padded, training_label_seq, epochs=num_epochs, validation_data=(validation_padded, validation_label_seq), verbose=2)"
      ],
      "execution_count": null,
      "outputs": [
        {
          "output_type": "stream",
          "name": "stdout",
          "text": [
            "Epoch 1/30\n",
            "56/56 - 1s - loss: 1.7774 - accuracy: 0.2140 - val_loss: 1.7566 - val_accuracy: 0.2382 - 868ms/epoch - 15ms/step\n",
            "Epoch 2/30\n",
            "56/56 - 0s - loss: 1.7377 - accuracy: 0.2270 - val_loss: 1.7065 - val_accuracy: 0.2382 - 278ms/epoch - 5ms/step\n",
            "Epoch 3/30\n",
            "56/56 - 0s - loss: 1.6896 - accuracy: 0.2270 - val_loss: 1.6594 - val_accuracy: 0.2382 - 287ms/epoch - 5ms/step\n",
            "Epoch 4/30\n",
            "56/56 - 0s - loss: 1.6452 - accuracy: 0.2270 - val_loss: 1.6229 - val_accuracy: 0.2382 - 235ms/epoch - 4ms/step\n",
            "Epoch 5/30\n",
            "56/56 - 0s - loss: 1.6123 - accuracy: 0.3034 - val_loss: 1.5966 - val_accuracy: 0.2472 - 258ms/epoch - 5ms/step\n",
            "Epoch 6/30\n",
            "56/56 - 0s - loss: 1.5872 - accuracy: 0.2978 - val_loss: 1.5742 - val_accuracy: 0.2876 - 241ms/epoch - 4ms/step\n",
            "Epoch 7/30\n",
            "56/56 - 0s - loss: 1.5634 - accuracy: 0.3556 - val_loss: 1.5515 - val_accuracy: 0.2719 - 231ms/epoch - 4ms/step\n",
            "Epoch 8/30\n",
            "56/56 - 0s - loss: 1.5314 - accuracy: 0.3860 - val_loss: 1.5126 - val_accuracy: 0.4000 - 278ms/epoch - 5ms/step\n",
            "Epoch 9/30\n",
            "56/56 - 0s - loss: 1.4913 - accuracy: 0.3978 - val_loss: 1.4702 - val_accuracy: 0.3753 - 243ms/epoch - 4ms/step\n",
            "Epoch 10/30\n",
            "56/56 - 0s - loss: 1.4392 - accuracy: 0.4663 - val_loss: 1.4136 - val_accuracy: 0.4270 - 267ms/epoch - 5ms/step\n",
            "Epoch 11/30\n",
            "56/56 - 0s - loss: 1.3765 - accuracy: 0.4629 - val_loss: 1.3503 - val_accuracy: 0.4764 - 306ms/epoch - 5ms/step\n",
            "Epoch 12/30\n",
            "56/56 - 0s - loss: 1.3080 - accuracy: 0.4916 - val_loss: 1.2810 - val_accuracy: 0.5371 - 236ms/epoch - 4ms/step\n",
            "Epoch 13/30\n",
            "56/56 - 0s - loss: 1.2393 - accuracy: 0.5275 - val_loss: 1.2173 - val_accuracy: 0.5775 - 286ms/epoch - 5ms/step\n",
            "Epoch 14/30\n",
            "56/56 - 0s - loss: 1.1741 - accuracy: 0.5966 - val_loss: 1.1597 - val_accuracy: 0.5506 - 267ms/epoch - 5ms/step\n",
            "Epoch 15/30\n",
            "56/56 - 0s - loss: 1.1168 - accuracy: 0.5702 - val_loss: 1.1071 - val_accuracy: 0.5978 - 287ms/epoch - 5ms/step\n",
            "Epoch 16/30\n",
            "56/56 - 0s - loss: 1.0655 - accuracy: 0.6292 - val_loss: 1.0712 - val_accuracy: 0.6539 - 241ms/epoch - 4ms/step\n",
            "Epoch 17/30\n",
            "56/56 - 0s - loss: 1.0236 - accuracy: 0.6534 - val_loss: 1.0232 - val_accuracy: 0.7079 - 271ms/epoch - 5ms/step\n",
            "Epoch 18/30\n",
            "56/56 - 0s - loss: 0.9770 - accuracy: 0.6961 - val_loss: 0.9877 - val_accuracy: 0.7146 - 281ms/epoch - 5ms/step\n",
            "Epoch 19/30\n",
            "56/56 - 0s - loss: 0.9384 - accuracy: 0.7433 - val_loss: 0.9493 - val_accuracy: 0.7416 - 286ms/epoch - 5ms/step\n",
            "Epoch 20/30\n",
            "56/56 - 0s - loss: 0.8992 - accuracy: 0.7573 - val_loss: 0.9127 - val_accuracy: 0.7506 - 233ms/epoch - 4ms/step\n",
            "Epoch 21/30\n",
            "56/56 - 0s - loss: 0.8619 - accuracy: 0.7826 - val_loss: 0.8829 - val_accuracy: 0.7393 - 260ms/epoch - 5ms/step\n",
            "Epoch 22/30\n",
            "56/56 - 0s - loss: 0.8252 - accuracy: 0.7837 - val_loss: 0.8439 - val_accuracy: 0.7865 - 251ms/epoch - 4ms/step\n",
            "Epoch 23/30\n",
            "56/56 - 0s - loss: 0.7820 - accuracy: 0.8140 - val_loss: 0.7991 - val_accuracy: 0.7910 - 263ms/epoch - 5ms/step\n",
            "Epoch 24/30\n",
            "56/56 - 0s - loss: 0.7361 - accuracy: 0.8292 - val_loss: 0.7553 - val_accuracy: 0.8135 - 244ms/epoch - 4ms/step\n",
            "Epoch 25/30\n",
            "56/56 - 0s - loss: 0.6916 - accuracy: 0.8449 - val_loss: 0.7152 - val_accuracy: 0.8135 - 244ms/epoch - 4ms/step\n",
            "Epoch 26/30\n",
            "56/56 - 0s - loss: 0.6493 - accuracy: 0.8618 - val_loss: 0.6772 - val_accuracy: 0.8270 - 231ms/epoch - 4ms/step\n",
            "Epoch 27/30\n",
            "56/56 - 0s - loss: 0.6087 - accuracy: 0.8702 - val_loss: 0.6411 - val_accuracy: 0.8562 - 252ms/epoch - 5ms/step\n",
            "Epoch 28/30\n",
            "56/56 - 0s - loss: 0.5668 - accuracy: 0.8910 - val_loss: 0.5980 - val_accuracy: 0.8427 - 254ms/epoch - 5ms/step\n",
            "Epoch 29/30\n",
            "56/56 - 0s - loss: 0.5232 - accuracy: 0.8949 - val_loss: 0.5582 - val_accuracy: 0.8629 - 269ms/epoch - 5ms/step\n",
            "Epoch 30/30\n",
            "56/56 - 0s - loss: 0.4862 - accuracy: 0.9022 - val_loss: 0.5266 - val_accuracy: 0.8719 - 228ms/epoch - 4ms/step\n"
          ]
        }
      ]
    },
    {
      "cell_type": "code",
      "metadata": {
        "execution": {
          "iopub.execute_input": "2021-03-29T12:23:06.807922Z",
          "iopub.status.busy": "2021-03-29T12:23:06.807028Z",
          "iopub.status.idle": "2021-03-29T12:23:07.219001Z",
          "shell.execute_reply": "2021-03-29T12:23:07.218400Z"
        },
        "papermill": {
          "duration": 0.470683,
          "end_time": "2021-03-29T12:23:07.219179",
          "exception": false,
          "start_time": "2021-03-29T12:23:06.748496",
          "status": "completed"
        },
        "tags": [],
        "colab": {
          "base_uri": "https://localhost:8080/",
          "height": 559
        },
        "id": "cPik7ZhAF1uJ",
        "outputId": "898e0b02-c96d-412f-c2e6-54022f333fb2"
      },
      "source": [
        "# Plotting model accuracy\n",
        "import matplotlib.pyplot as plt\n",
        "\n",
        "def plot_graphs(history, string):\n",
        "  plt.plot(history.history[string])\n",
        "  plt.plot(history.history['val_'+string])\n",
        "  plt.xlabel(\"Epochs\")\n",
        "  plt.ylabel(string)\n",
        "  plt.legend([string, 'val_'+string])\n",
        "  plt.show()\n",
        "\n",
        "plot_graphs(history, \"accuracy\")\n",
        "plot_graphs(history, \"loss\")\n",
        "accuracy1=max(history.history['val_accuracy'])\n",
        "print(accuracy1)"
      ],
      "execution_count": null,
      "outputs": [
        {
          "output_type": "display_data",
          "data": {
            "image/png": "[encoded data removed]",
            "text/plain": [
              "<Figure size 432x288 with 1 Axes>"
            ]
          },
          "metadata": {
            "needs_background": "light"
          }
        },
        {
          "output_type": "display_data",
          "data": {
            "image/png": "[encoded data removed]",
            "text/plain": [
              "<Figure size 432x288 with 1 Axes>"
            ]
          },
          "metadata": {
            "needs_background": "light"
          }
        },
        {
          "output_type": "stream",
          "name": "stdout",
          "text": [
            "0.8719100952148438\n"
          ]
        }
      ]
    },
    {
      "cell_type": "code",
      "metadata": {
        "id": "hm82VIcgQ6T7"
      },
      "source": [
        "import numpy as np\n",
        "import pandas as pd\n",
        "import os\n",
        "import matplotlib.pyplot as plt\n",
        "import tensorflow as tf\n",
        "from sklearn.preprocessing import LabelBinarizer, LabelEncoder\n",
        "from tensorflow import keras\n",
        "layers = keras.layers\n",
        "models = keras.models"
      ],
      "execution_count": null,
      "outputs": []
    },
    {
      "cell_type": "code",
      "metadata": {
        "id": "NgwRrijRR-xP"
      },
      "source": [
        "data = pd.read_csv(\"bbc.csv\")"
      ],
      "execution_count": null,
      "outputs": []
    },
    {
      "cell_type": "code",
      "metadata": {
        "colab": {
          "base_uri": "https://localhost:8080/",
          "height": 206
        },
        "id": "sbJWLSLiSABD",
        "outputId": "aa72b297-3e57-46dd-d665-aac2f53fa5ac"
      },
      "source": [
        "data.head()"
      ],
      "execution_count": null,
      "outputs": [
        {
          "output_type": "execute_result",
          "data": {
            "text/html": [
              "<div>\n",
              "<style scoped>\n",
              "    .dataframe tbody tr th:only-of-type {\n",
              "        vertical-align: middle;\n",
              "    }\n",
              "\n",
              "    .dataframe tbody tr th {\n",
              "        vertical-align: top;\n",
              "    }\n",
              "\n",
              "    .dataframe thead th {\n",
              "        text-align: right;\n",
              "    }\n",
              "</style>\n",
              "<table border=\"1\" class=\"dataframe\">\n",
              "  <thead>\n",
              "    <tr style=\"text-align: right;\">\n",
              "      <th></th>\n",
              "      <th>category</th>\n",
              "      <th>text</th>\n",
              "    </tr>\n",
              "  </thead>\n",
              "  <tbody>\n",
              "    <tr>\n",
              "      <th>0</th>\n",
              "      <td>tech</td>\n",
              "      <td>tv future in the hands of viewers with home th...</td>\n",
              "    </tr>\n",
              "    <tr>\n",
              "      <th>1</th>\n",
              "      <td>business</td>\n",
              "      <td>worldcom boss  left books alone  former worldc...</td>\n",
              "    </tr>\n",
              "    <tr>\n",
              "      <th>2</th>\n",
              "      <td>sport</td>\n",
              "      <td>tigers wary of farrell  gamble  leicester say ...</td>\n",
              "    </tr>\n",
              "    <tr>\n",
              "      <th>3</th>\n",
              "      <td>sport</td>\n",
              "      <td>yeading face newcastle in fa cup premiership s...</td>\n",
              "    </tr>\n",
              "    <tr>\n",
              "      <th>4</th>\n",
              "      <td>entertainment</td>\n",
              "      <td>ocean s twelve raids box office ocean s twelve...</td>\n",
              "    </tr>\n",
              "  </tbody>\n",
              "</table>\n",
              "</div>"
            ],
            "text/plain": [
              "        category                                               text\n",
              "0           tech  tv future in the hands of viewers with home th...\n",
              "1       business  worldcom boss  left books alone  former worldc...\n",
              "2          sport  tigers wary of farrell  gamble  leicester say ...\n",
              "3          sport  yeading face newcastle in fa cup premiership s...\n",
              "4  entertainment  ocean s twelve raids box office ocean s twelve..."
            ]
          },
          "metadata": {},
          "execution_count": 359
        }
      ]
    },
    {
      "cell_type": "code",
      "metadata": {
        "colab": {
          "base_uri": "https://localhost:8080/"
        },
        "id": "JRdrghZRSATL",
        "outputId": "53aaf98a-1984-460c-90da-8846104e76ec"
      },
      "source": [
        "data['category'].value_counts()"
      ],
      "execution_count": null,
      "outputs": [
        {
          "output_type": "execute_result",
          "data": {
            "text/plain": [
              "sport            511\n",
              "business         510\n",
              "politics         417\n",
              "tech             401\n",
              "entertainment    386\n",
              "Name: category, dtype: int64"
            ]
          },
          "metadata": {},
          "execution_count": 360
        }
      ]
    },
    {
      "cell_type": "code",
      "metadata": {
        "colab": {
          "base_uri": "https://localhost:8080/"
        },
        "id": "edKRKtjpSAiO",
        "outputId": "e6e5222d-9d78-4418-a0d6-adbfb3a55d2c"
      },
      "source": [
        "train_size = int(len(data) * .8)\n",
        "print (\"Train size: %d\" % train_size)\n",
        "print (\"Test size: %d\" % (len(data) - train_size))"
      ],
      "execution_count": null,
      "outputs": [
        {
          "output_type": "stream",
          "name": "stdout",
          "text": [
            "Train size: 1780\n",
            "Test size: 445\n"
          ]
        }
      ]
    },
    {
      "cell_type": "code",
      "metadata": {
        "id": "yKEQvTl5SAvS"
      },
      "source": [
        "def train_test_split(data, train_size):\n",
        "    train = data[:train_size]\n",
        "    test = data[train_size:]\n",
        "    return train, test"
      ],
      "execution_count": null,
      "outputs": []
    },
    {
      "cell_type": "code",
      "metadata": {
        "id": "PHyklubZSA7F"
      },
      "source": [
        "train_cat, test_cat = train_test_split(data['category'], train_size)\n",
        "train_text, test_text = train_test_split(data['text'], train_size)"
      ],
      "execution_count": null,
      "outputs": []
    },
    {
      "cell_type": "code",
      "metadata": {
        "id": "V80O3d_JSBKy"
      },
      "source": [
        "max_words = 1000\n",
        "tokenize = keras.preprocessing.text.Tokenizer(num_words=max_words,\n",
        "                                              char_level=False)"
      ],
      "execution_count": null,
      "outputs": []
    },
    {
      "cell_type": "code",
      "metadata": {
        "id": "OZp1h4iVSBaG"
      },
      "source": [
        "tokenize.fit_on_texts(train_text) # fit tokenizer to our training text data\n",
        "x_train = tokenize.texts_to_matrix(train_text)\n",
        "x_test = tokenize.texts_to_matrix(test_text)"
      ],
      "execution_count": null,
      "outputs": []
    },
    {
      "cell_type": "code",
      "metadata": {
        "id": "Xdwi-LBiSJ5V"
      },
      "source": [
        "# Use sklearn utility to convert label strings to numbered index\n",
        "encoder = LabelEncoder()\n",
        "encoder.fit(train_cat)\n",
        "y_train = encoder.transform(train_cat)\n",
        "y_test = encoder.transform(test_cat)"
      ],
      "execution_count": null,
      "outputs": []
    },
    {
      "cell_type": "code",
      "metadata": {
        "id": "TmkXKD5dSwbH"
      },
      "source": [
        "# Converts the labels to a one-hot representation\n",
        "num_classes = np.max(y_train) + 1\n",
        "y_train = keras.utils.to_categorical(y_train, num_classes)\n",
        "y_test = keras.utils.to_categorical(y_test, num_classes)"
      ],
      "execution_count": null,
      "outputs": []
    },
    {
      "cell_type": "code",
      "metadata": {
        "colab": {
          "base_uri": "https://localhost:8080/"
        },
        "id": "zZUUAoUwSKGN",
        "outputId": "08edd9db-0e86-415f-c1a9-9d33811064b0"
      },
      "source": [
        "# Inspect the dimenstions of our training and test data\n",
        "print('x_train shape:', x_train.shape)\n",
        "print('x_test shape:', x_test.shape)\n",
        "print('y_train shape:', y_train.shape)\n",
        "print('y_test shape:', y_test.shape)"
      ],
      "execution_count": null,
      "outputs": [
        {
          "output_type": "stream",
          "name": "stdout",
          "text": [
            "x_train shape: (1780, 1000)\n",
            "x_test shape: (445, 1000)\n",
            "y_train shape: (1780, 5)\n",
            "y_test shape: (445, 5)\n"
          ]
        }
      ]
    },
    {
      "cell_type": "code",
      "metadata": {
        "id": "uXytJk9RSMdI"
      },
      "source": [
        "batch_size = 32\n",
        "epochs = 5\n",
        "drop_ratio = 0.5"
      ],
      "execution_count": null,
      "outputs": []
    },
    {
      "cell_type": "code",
      "metadata": {
        "id": "B1akfI0gSMpp"
      },
      "source": [
        "# Build the model\n",
        "model2 = models.Sequential()\n",
        "model2.add(layers.Dense(512, input_shape=(max_words,)))\n",
        "model2.add(layers.Activation('relu'))\n",
        "model2.add(layers.Dense(num_classes))\n",
        "model2.add(layers.Activation('softmax'))\n",
        "\n",
        "model2.compile(loss='categorical_crossentropy',\n",
        "              optimizer='adam',\n",
        "              metrics=['accuracy'])"
      ],
      "execution_count": null,
      "outputs": []
    },
    {
      "cell_type": "code",
      "metadata": {
        "colab": {
          "base_uri": "https://localhost:8080/"
        },
        "id": "6G1vjdEdSPJO",
        "outputId": "e4ff8932-3eda-45ce-b6aa-06a7c09529ca"
      },
      "source": [
        "history = model2.fit(x_train, y_train,\n",
        "                    batch_size=batch_size,\n",
        "                    epochs=epochs,\n",
        "                    verbose=1,\n",
        "                    validation_split=0.1)"
      ],
      "execution_count": null,
      "outputs": [
        {
          "output_type": "stream",
          "name": "stdout",
          "text": [
            "Epoch 1/5\n",
            "51/51 [==============================] - 1s 8ms/step - loss: 0.4374 - accuracy: 0.8727 - val_loss: 0.1630 - val_accuracy: 0.9551\n",
            "Epoch 2/5\n",
            "51/51 [==============================] - 0s 6ms/step - loss: 0.0408 - accuracy: 0.9956 - val_loss: 0.1101 - val_accuracy: 0.9663\n",
            "Epoch 3/5\n",
            "51/51 [==============================] - 0s 5ms/step - loss: 0.0118 - accuracy: 0.9994 - val_loss: 0.1075 - val_accuracy: 0.9663\n",
            "Epoch 4/5\n",
            "51/51 [==============================] - 0s 6ms/step - loss: 0.0061 - accuracy: 1.0000 - val_loss: 0.1068 - val_accuracy: 0.9663\n",
            "Epoch 5/5\n",
            "51/51 [==============================] - 0s 6ms/step - loss: 0.0041 - accuracy: 1.0000 - val_loss: 0.1071 - val_accuracy: 0.9663\n"
          ]
        }
      ]
    },
    {
      "cell_type": "code",
      "metadata": {
        "colab": {
          "base_uri": "https://localhost:8080/"
        },
        "id": "HOXRNxBGSSDy",
        "outputId": "2fa7ed1a-133a-49b1-de8e-ced475305eff"
      },
      "source": [
        "# Evaluate the accuracy of our trained model\n",
        "score2 = model2.evaluate(x_test, y_test,\n",
        "                       batch_size=batch_size, verbose=1)\n",
        "accuracy2=score2[1]\n",
        "print('Test loss:', score2[0])\n",
        "print('Test accuracy:', score2[1])"
      ],
      "execution_count": null,
      "outputs": [
        {
          "output_type": "stream",
          "name": "stdout",
          "text": [
            "14/14 [==============================] - 0s 3ms/step - loss: 0.1233 - accuracy: 0.9618\n",
            "Test loss: 0.12330809980630875\n",
            "Test accuracy: 0.9617977738380432\n"
          ]
        }
      ]
    },
    {
      "cell_type": "markdown",
      "metadata": {
        "id": "2urFvALiS83r"
      },
      "source": [
        "model3"
      ]
    },
    {
      "cell_type": "code",
      "metadata": {
        "id": "Okpq5turTAg0"
      },
      "source": [
        "# Build the model\n",
        "model3 = models.Sequential()\n",
        "model3.add(layers.Dense(512, input_shape=(max_words,)))\n",
        "model3.add(layers.Activation('tanh'))\n",
        "model3.add(layers.Dense(num_classes))\n",
        "model3.add(layers.Activation('softmax'))\n",
        "\n",
        "model3.compile(loss='categorical_crossentropy',\n",
        "              optimizer='adam',\n",
        "              metrics=['accuracy'])"
      ],
      "execution_count": null,
      "outputs": []
    },
    {
      "cell_type": "code",
      "metadata": {
        "colab": {
          "base_uri": "https://localhost:8080/"
        },
        "id": "IHddz-CpTCU2",
        "outputId": "7e7572c5-a0bf-4ca5-a73b-4d4396ffd3cd"
      },
      "source": [
        "history = model3.fit(x_train, y_train,\n",
        "                    batch_size=batch_size,\n",
        "                    epochs=epochs,\n",
        "                    verbose=1,\n",
        "                    validation_split=0.1)"
      ],
      "execution_count": null,
      "outputs": [
        {
          "output_type": "stream",
          "name": "stdout",
          "text": [
            "Epoch 1/5\n",
            "51/51 [==============================] - 1s 8ms/step - loss: 0.3323 - accuracy: 0.8976 - val_loss: 0.1447 - val_accuracy: 0.9382\n",
            "Epoch 2/5\n",
            "51/51 [==============================] - 0s 6ms/step - loss: 0.0348 - accuracy: 0.9950 - val_loss: 0.1319 - val_accuracy: 0.9438\n",
            "Epoch 3/5\n",
            "51/51 [==============================] - 0s 5ms/step - loss: 0.0100 - accuracy: 1.0000 - val_loss: 0.1186 - val_accuracy: 0.9551\n",
            "Epoch 4/5\n",
            "51/51 [==============================] - 0s 5ms/step - loss: 0.0057 - accuracy: 1.0000 - val_loss: 0.1194 - val_accuracy: 0.9551\n",
            "Epoch 5/5\n",
            "51/51 [==============================] - 0s 5ms/step - loss: 0.0039 - accuracy: 1.0000 - val_loss: 0.1191 - val_accuracy: 0.9607\n"
          ]
        }
      ]
    },
    {
      "cell_type": "code",
      "metadata": {
        "colab": {
          "base_uri": "https://localhost:8080/"
        },
        "id": "4lxmBPTTTDeH",
        "outputId": "792e3aff-2f7b-43d0-d8ff-713b118a26ca"
      },
      "source": [
        "# Evaluate the accuracy of our trained model\n",
        "score3 = model3.evaluate(x_test, y_test,\n",
        "                       batch_size=batch_size, verbose=1)\n",
        "accuracy3=score3[1]\n",
        "print('Test loss:', score3[0])\n",
        "print('Test accuracy:', score3[1])\n",
        "random_model=min(accuracy1,accuracy2,accuracy3)\n",
        "ensemble_accuracy=max(accuracy1,accuracy2,accuracy3)"
      ],
      "execution_count": null,
      "outputs": [
        {
          "output_type": "stream",
          "name": "stdout",
          "text": [
            "14/14 [==============================] - 0s 3ms/step - loss: 0.1392 - accuracy: 0.9528\n",
            "Test loss: 0.13922947645187378\n",
            "Test accuracy: 0.9528089761734009\n"
          ]
        }
      ]
    },
    {
      "cell_type": "code",
      "metadata": {
        "id": "v4q5sQnqesKW"
      },
      "source": [
        "def misclassified(rand_accuracy,ensembled_acc):\n",
        "  length=len(y_test)\n",
        "  find=length*(ensembled_acc-rand_accuracy)\n",
        "  find=math.ceil(find)\n",
        "  return find"
      ],
      "execution_count": null,
      "outputs": []
    },
    {
      "cell_type": "code",
      "metadata": {
        "colab": {
          "base_uri": "https://localhost:8080/"
        },
        "id": "3dsbKBhrZLnU",
        "outputId": "668891df-4f45-4875-d0e2-3339d704797b"
      },
      "source": [
        "print(\"Accuracy for Vanilla RNN:\",accuracy1)\n",
        "print(\"Accuracy for ffn1:       \",accuracy2)\n",
        "print(\"Accuracy for ffn tanh:   \",accuracy3)\n",
        "print(\"ensembled accuracy:      \",ensemble_accuracy)"
      ],
      "execution_count": null,
      "outputs": [
        {
          "output_type": "stream",
          "name": "stdout",
          "text": [
            "Accuracy for Vanilla RNN: 0.8719100952148438\n",
            "Accuracy for ffn1:        0.9617977738380432\n",
            "Accuracy for ffn tanh:    0.9528089761734009\n",
            "ensembled accuracy:       0.9617977738380432\n"
          ]
        }
      ]
    },
    {
      "cell_type": "code",
      "metadata": {
        "colab": {
          "base_uri": "https://localhost:8080/"
        },
        "id": "OYkEKCBNfJ15",
        "outputId": "054bec63-389a-4080-f47c-57c036b98713"
      },
      "source": [
        "diff=misclassified( random_model , ensemble_accuracy)\n",
        "diff1=misclassified(0,1-accuracy1)\n",
        "diff2=misclassified(0,1-accuracy2)\n",
        "diff3=misclassified(0,1-accuracy3)\n",
        "print(\"Instances misclassified by any of the three models, but correctly classified in the ensemble model \",diff)\n",
        "print(\"Instances misclassified by Vanilla RNN                                                             \",diff1)\n",
        "print(\"Instances misclassified by ffn1 model                                                              \",diff2)\n",
        "print(\"Instances misclassified by ffn tanh model                                                          \",diff3)"
      ],
      "execution_count": null,
      "outputs": [
        {
          "output_type": "stream",
          "name": "stdout",
          "text": [
            "Instances misclassified by any of the three models, but correctly classified in the ensemble model  41\n",
            "Instances misclassified by Vanilla RNN                                                              58\n",
            "Instances misclassified by ffn1 model                                                               17\n",
            "Instances misclassified by ffn tanh model                                                           22\n"
          ]
        }
      ]
    }
  ]
}